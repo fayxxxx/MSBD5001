{
 "cells": [
  {
   "cell_type": "markdown",
   "id": "232572a8",
   "metadata": {},
   "source": [
    "## Load Packages"
   ]
  },
  {
   "cell_type": "code",
   "execution_count": 1,
   "id": "47229ead",
   "metadata": {},
   "outputs": [],
   "source": [
    "import pandas as pd\n",
    "from sklearn.model_selection import cross_val_score\n",
    "from sklearn.ensemble import RandomForestClassifier\n",
    "from sklearn.linear_model import LogisticRegression"
   ]
  },
  {
   "cell_type": "markdown",
   "id": "47d473e5",
   "metadata": {},
   "source": [
    "## Load Data"
   ]
  },
  {
   "cell_type": "code",
   "execution_count": 2,
   "id": "8641e427",
   "metadata": {},
   "outputs": [],
   "source": [
    "train = pd.read_csv(\"train.csv\", index_col = \"id\")\n",
    "test = pd.read_csv(\"test.csv\", index_col = \"id\")"
   ]
  },
  {
   "cell_type": "code",
   "execution_count": 3,
   "id": "46ce6b6b",
   "metadata": {},
   "outputs": [
    {
     "data": {
      "text/html": [
       "<div>\n",
       "<style scoped>\n",
       "    .dataframe tbody tr th:only-of-type {\n",
       "        vertical-align: middle;\n",
       "    }\n",
       "\n",
       "    .dataframe tbody tr th {\n",
       "        vertical-align: top;\n",
       "    }\n",
       "\n",
       "    .dataframe thead th {\n",
       "        text-align: right;\n",
       "    }\n",
       "</style>\n",
       "<table border=\"1\" class=\"dataframe\">\n",
       "  <thead>\n",
       "    <tr style=\"text-align: right;\">\n",
       "      <th></th>\n",
       "      <th>MO HLADR+ MFI (cells/ul)</th>\n",
       "      <th>Neu CD64+MFI (cells/ul)</th>\n",
       "      <th>CD3+T (cells/ul)</th>\n",
       "      <th>CD8+T (cells/ul)</th>\n",
       "      <th>CD4+T (cells/ul)</th>\n",
       "      <th>NK (cells/ul)</th>\n",
       "      <th>CD19+ (cells/ul)</th>\n",
       "      <th>CD45+ (cells/ul)</th>\n",
       "      <th>Age</th>\n",
       "      <th>Sex 0M1F</th>\n",
       "      <th>Mono CD64+MFI (cells/ul)</th>\n",
       "      <th>label</th>\n",
       "    </tr>\n",
       "  </thead>\n",
       "  <tbody>\n",
       "    <tr>\n",
       "      <th>count</th>\n",
       "      <td>86.000000</td>\n",
       "      <td>86.000000</td>\n",
       "      <td>87.000000</td>\n",
       "      <td>87.000000</td>\n",
       "      <td>87.000000</td>\n",
       "      <td>87.000000</td>\n",
       "      <td>87.000000</td>\n",
       "      <td>87.000000</td>\n",
       "      <td>87.000000</td>\n",
       "      <td>87.000000</td>\n",
       "      <td>86.000000</td>\n",
       "      <td>87.000000</td>\n",
       "    </tr>\n",
       "    <tr>\n",
       "      <th>mean</th>\n",
       "      <td>1264.244186</td>\n",
       "      <td>290.383721</td>\n",
       "      <td>982.570115</td>\n",
       "      <td>479.340920</td>\n",
       "      <td>494.904023</td>\n",
       "      <td>212.732874</td>\n",
       "      <td>118.780920</td>\n",
       "      <td>1325.096437</td>\n",
       "      <td>40.218391</td>\n",
       "      <td>0.482759</td>\n",
       "      <td>2066.534884</td>\n",
       "      <td>0.333333</td>\n",
       "    </tr>\n",
       "    <tr>\n",
       "      <th>std</th>\n",
       "      <td>765.452376</td>\n",
       "      <td>490.283499</td>\n",
       "      <td>617.332545</td>\n",
       "      <td>344.326452</td>\n",
       "      <td>311.836604</td>\n",
       "      <td>173.553264</td>\n",
       "      <td>96.218344</td>\n",
       "      <td>791.602538</td>\n",
       "      <td>10.461919</td>\n",
       "      <td>0.502599</td>\n",
       "      <td>1198.401364</td>\n",
       "      <td>0.474137</td>\n",
       "    </tr>\n",
       "    <tr>\n",
       "      <th>min</th>\n",
       "      <td>112.000000</td>\n",
       "      <td>30.000000</td>\n",
       "      <td>74.400000</td>\n",
       "      <td>36.610000</td>\n",
       "      <td>39.590000</td>\n",
       "      <td>0.000000</td>\n",
       "      <td>4.200000</td>\n",
       "      <td>209.250000</td>\n",
       "      <td>19.000000</td>\n",
       "      <td>0.000000</td>\n",
       "      <td>72.000000</td>\n",
       "      <td>0.000000</td>\n",
       "    </tr>\n",
       "    <tr>\n",
       "      <th>25%</th>\n",
       "      <td>685.500000</td>\n",
       "      <td>77.500000</td>\n",
       "      <td>549.390000</td>\n",
       "      <td>237.920000</td>\n",
       "      <td>272.745000</td>\n",
       "      <td>78.815000</td>\n",
       "      <td>52.425000</td>\n",
       "      <td>780.615000</td>\n",
       "      <td>33.000000</td>\n",
       "      <td>0.000000</td>\n",
       "      <td>1461.250000</td>\n",
       "      <td>0.000000</td>\n",
       "    </tr>\n",
       "    <tr>\n",
       "      <th>50%</th>\n",
       "      <td>1108.500000</td>\n",
       "      <td>124.500000</td>\n",
       "      <td>871.710000</td>\n",
       "      <td>423.270000</td>\n",
       "      <td>459.720000</td>\n",
       "      <td>188.780000</td>\n",
       "      <td>89.790000</td>\n",
       "      <td>1179.270000</td>\n",
       "      <td>41.000000</td>\n",
       "      <td>0.000000</td>\n",
       "      <td>1757.500000</td>\n",
       "      <td>0.000000</td>\n",
       "    </tr>\n",
       "    <tr>\n",
       "      <th>75%</th>\n",
       "      <td>1602.250000</td>\n",
       "      <td>244.500000</td>\n",
       "      <td>1268.085000</td>\n",
       "      <td>624.450000</td>\n",
       "      <td>624.360000</td>\n",
       "      <td>262.845000</td>\n",
       "      <td>155.450000</td>\n",
       "      <td>1617.725000</td>\n",
       "      <td>49.500000</td>\n",
       "      <td>1.000000</td>\n",
       "      <td>2238.250000</td>\n",
       "      <td>1.000000</td>\n",
       "    </tr>\n",
       "    <tr>\n",
       "      <th>max</th>\n",
       "      <td>4145.000000</td>\n",
       "      <td>3124.000000</td>\n",
       "      <td>3791.230000</td>\n",
       "      <td>2548.100000</td>\n",
       "      <td>1517.810000</td>\n",
       "      <td>878.040000</td>\n",
       "      <td>485.860000</td>\n",
       "      <td>4757.280000</td>\n",
       "      <td>60.000000</td>\n",
       "      <td>1.000000</td>\n",
       "      <td>7515.000000</td>\n",
       "      <td>1.000000</td>\n",
       "    </tr>\n",
       "  </tbody>\n",
       "</table>\n",
       "</div>"
      ],
      "text/plain": [
       "       MO HLADR+ MFI (cells/ul)  Neu CD64+MFI (cells/ul)  CD3+T (cells/ul)  \\\n",
       "count                 86.000000                86.000000         87.000000   \n",
       "mean                1264.244186               290.383721        982.570115   \n",
       "std                  765.452376               490.283499        617.332545   \n",
       "min                  112.000000                30.000000         74.400000   \n",
       "25%                  685.500000                77.500000        549.390000   \n",
       "50%                 1108.500000               124.500000        871.710000   \n",
       "75%                 1602.250000               244.500000       1268.085000   \n",
       "max                 4145.000000              3124.000000       3791.230000   \n",
       "\n",
       "       CD8+T (cells/ul)  CD4+T (cells/ul)  NK (cells/ul)  CD19+ (cells/ul)  \\\n",
       "count         87.000000         87.000000      87.000000         87.000000   \n",
       "mean         479.340920        494.904023     212.732874        118.780920   \n",
       "std          344.326452        311.836604     173.553264         96.218344   \n",
       "min           36.610000         39.590000       0.000000          4.200000   \n",
       "25%          237.920000        272.745000      78.815000         52.425000   \n",
       "50%          423.270000        459.720000     188.780000         89.790000   \n",
       "75%          624.450000        624.360000     262.845000        155.450000   \n",
       "max         2548.100000       1517.810000     878.040000        485.860000   \n",
       "\n",
       "       CD45+ (cells/ul)        Age   Sex 0M1F  Mono CD64+MFI (cells/ul)  \\\n",
       "count         87.000000  87.000000  87.000000                 86.000000   \n",
       "mean        1325.096437  40.218391   0.482759               2066.534884   \n",
       "std          791.602538  10.461919   0.502599               1198.401364   \n",
       "min          209.250000  19.000000   0.000000                 72.000000   \n",
       "25%          780.615000  33.000000   0.000000               1461.250000   \n",
       "50%         1179.270000  41.000000   0.000000               1757.500000   \n",
       "75%         1617.725000  49.500000   1.000000               2238.250000   \n",
       "max         4757.280000  60.000000   1.000000               7515.000000   \n",
       "\n",
       "           label  \n",
       "count  87.000000  \n",
       "mean    0.333333  \n",
       "std     0.474137  \n",
       "min     0.000000  \n",
       "25%     0.000000  \n",
       "50%     0.000000  \n",
       "75%     1.000000  \n",
       "max     1.000000  "
      ]
     },
     "execution_count": 3,
     "metadata": {},
     "output_type": "execute_result"
    }
   ],
   "source": [
    "train.describe()"
   ]
  },
  {
   "cell_type": "code",
   "execution_count": 4,
   "id": "c3feeb86",
   "metadata": {},
   "outputs": [],
   "source": [
    "# drop missing value \n",
    "train.dropna(inplace =  True)"
   ]
  },
  {
   "cell_type": "code",
   "execution_count": 5,
   "id": "987a07b3",
   "metadata": {},
   "outputs": [
    {
     "data": {
      "text/plain": [
       "MO HLADR+ MFI (cells/ul)    False\n",
       "Neu CD64+MFI (cells/ul)     False\n",
       "CD3+T (cells/ul)            False\n",
       "CD8+T (cells/ul)            False\n",
       "CD4+T (cells/ul)            False\n",
       "NK (cells/ul)               False\n",
       "CD19+ (cells/ul)            False\n",
       "CD45+ (cells/ul)            False\n",
       "Age                         False\n",
       "Sex 0M1F                    False\n",
       "Mono CD64+MFI (cells/ul)    False\n",
       "label                       False\n",
       "dtype: bool"
      ]
     },
     "execution_count": 5,
     "metadata": {},
     "output_type": "execute_result"
    }
   ],
   "source": [
    "train.isna().any()"
   ]
  },
  {
   "cell_type": "code",
   "execution_count": 6,
   "id": "3ed4128a",
   "metadata": {},
   "outputs": [
    {
     "data": {
      "text/plain": [
       "label\n",
       "0    57\n",
       "1    29\n",
       "dtype: int64"
      ]
     },
     "execution_count": 6,
     "metadata": {},
     "output_type": "execute_result"
    }
   ],
   "source": [
    "# label distribution\n",
    "train.groupby([\"label\"]).size()"
   ]
  },
  {
   "cell_type": "code",
   "execution_count": 7,
   "id": "1f2a0d02",
   "metadata": {},
   "outputs": [],
   "source": [
    "# generate training data\n",
    "x_train = train.drop(columns = [\"label\"])\n",
    "y_train = train[[\"label\"]]"
   ]
  },
  {
   "cell_type": "markdown",
   "id": "ebeda426",
   "metadata": {},
   "source": [
    "## Random Forest Regression"
   ]
  },
  {
   "cell_type": "code",
   "execution_count": 8,
   "id": "af508b18",
   "metadata": {},
   "outputs": [],
   "source": [
    "# parameters tuning\n",
    "best_param = [10, 1]\n",
    "best_score = -1\n",
    "for p1 in range(10, 100, 10):\n",
    "    for p2 in range(1, 12):\n",
    "        clf = RandomForestClassifier(n_estimators = p1, max_depth = p2, random_state=0)\n",
    "        scores = cross_val_score(clf, x_train.values, y_train[\"label\"], cv=5)\n",
    "        s = scores.mean()\n",
    "        if s > best_score:\n",
    "            best_param = [p1, p2]\n",
    "            best_score = s"
   ]
  },
  {
   "cell_type": "code",
   "execution_count": 9,
   "id": "4dc66c44",
   "metadata": {},
   "outputs": [
    {
     "data": {
      "text/plain": [
       "([60, 4], 0.9424836601307189)"
      ]
     },
     "execution_count": 9,
     "metadata": {},
     "output_type": "execute_result"
    }
   ],
   "source": [
    "best_param, best_score"
   ]
  },
  {
   "cell_type": "code",
   "execution_count": 10,
   "id": "ede11dd7",
   "metadata": {},
   "outputs": [
    {
     "data": {
      "text/plain": [
       "RandomForestClassifier(max_depth=4, n_estimators=60, random_state=0)"
      ]
     },
     "execution_count": 10,
     "metadata": {},
     "output_type": "execute_result"
    }
   ],
   "source": [
    "clf_rf = RandomForestClassifier(n_estimators = 60, max_depth = 4, random_state=0)\n",
    "clf_rf.fit(x_train, y_train[\"label\"])"
   ]
  },
  {
   "cell_type": "code",
   "execution_count": 11,
   "id": "31a6439b",
   "metadata": {},
   "outputs": [],
   "source": [
    "test_rf = test.copy()\n",
    "pred_rf = clf_rf.predict(test_rf)"
   ]
  },
  {
   "cell_type": "code",
   "execution_count": 12,
   "id": "3e0d32b9",
   "metadata": {},
   "outputs": [],
   "source": [
    "output_rf = test_rf\n",
    "output_rf[\"label\"] = pred_rf"
   ]
  },
  {
   "cell_type": "code",
   "execution_count": 13,
   "id": "4841bfd0",
   "metadata": {},
   "outputs": [],
   "source": [
    "output_rf[[\"label\"]].to_csv(\"results_rf.csv\")"
   ]
  },
  {
   "cell_type": "markdown",
   "id": "5a915628",
   "metadata": {},
   "source": [
    "## Logistic Regression"
   ]
  },
  {
   "cell_type": "code",
   "execution_count": 14,
   "id": "408d69b7",
   "metadata": {},
   "outputs": [],
   "source": [
    "clf_lr = LogisticRegression(random_state=0)"
   ]
  },
  {
   "cell_type": "code",
   "execution_count": 15,
   "id": "86307871",
   "metadata": {},
   "outputs": [
    {
     "name": "stderr",
     "output_type": "stream",
     "text": [
      "F:\\Anaconda\\envs\\pytorch\\lib\\site-packages\\sklearn\\utils\\validation.py:993: DataConversionWarning: A column-vector y was passed when a 1d array was expected. Please change the shape of y to (n_samples, ), for example using ravel().\n",
      "  y = column_or_1d(y, warn=True)\n",
      "F:\\Anaconda\\envs\\pytorch\\lib\\site-packages\\sklearn\\linear_model\\_logistic.py:814: ConvergenceWarning: lbfgs failed to converge (status=1):\n",
      "STOP: TOTAL NO. of ITERATIONS REACHED LIMIT.\n",
      "\n",
      "Increase the number of iterations (max_iter) or scale the data as shown in:\n",
      "    https://scikit-learn.org/stable/modules/preprocessing.html\n",
      "Please also refer to the documentation for alternative solver options:\n",
      "    https://scikit-learn.org/stable/modules/linear_model.html#logistic-regression\n",
      "  n_iter_i = _check_optimize_result(\n"
     ]
    },
    {
     "data": {
      "text/plain": [
       "LogisticRegression(random_state=0)"
      ]
     },
     "execution_count": 15,
     "metadata": {},
     "output_type": "execute_result"
    }
   ],
   "source": [
    "clf_lr.fit(x_train, y_train)"
   ]
  },
  {
   "cell_type": "code",
   "execution_count": 16,
   "id": "acf642cd",
   "metadata": {},
   "outputs": [
    {
     "data": {
      "text/plain": [
       "0.9302325581395349"
      ]
     },
     "execution_count": 16,
     "metadata": {},
     "output_type": "execute_result"
    }
   ],
   "source": [
    "clf_lr.score(x_train, y_train)"
   ]
  },
  {
   "cell_type": "code",
   "execution_count": 17,
   "id": "42c89838",
   "metadata": {},
   "outputs": [],
   "source": [
    "test_lr = test.copy()\n",
    "pred_lr = clf_lr.predict(test_lr)"
   ]
  },
  {
   "cell_type": "code",
   "execution_count": 18,
   "id": "1eb9c6bb",
   "metadata": {},
   "outputs": [],
   "source": [
    "output_lr = test_lr\n",
    "output_lr[\"label\"] = pred_lr"
   ]
  },
  {
   "cell_type": "code",
   "execution_count": 19,
   "id": "74f9c4f7",
   "metadata": {},
   "outputs": [],
   "source": [
    "output_lr[[\"label\"]].to_csv(\"results_lr.csv\")"
   ]
  },
  {
   "cell_type": "markdown",
   "id": "0e6a4c26",
   "metadata": {},
   "source": [
    "I submitted both of the result table above, it shows the logistic regression model shows better perfomance on the test dataset."
   ]
  },
  {
   "cell_type": "code",
   "execution_count": null,
   "id": "362d0a51",
   "metadata": {},
   "outputs": [],
   "source": []
  }
 ],
 "metadata": {
  "kernelspec": {
   "display_name": "Python [conda env:pytorch]",
   "language": "python",
   "name": "conda-env-pytorch-py"
  },
  "language_info": {
   "codemirror_mode": {
    "name": "ipython",
    "version": 3
   },
   "file_extension": ".py",
   "mimetype": "text/x-python",
   "name": "python",
   "nbconvert_exporter": "python",
   "pygments_lexer": "ipython3",
   "version": "3.8.12"
  }
 },
 "nbformat": 4,
 "nbformat_minor": 5
}
